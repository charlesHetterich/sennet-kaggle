{
 "cells": [
  {
   "cell_type": "code",
   "execution_count": 91,
   "metadata": {},
   "outputs": [],
   "source": [
    "import numpy as np\n",
    "import matplotlib.pyplot as plt\n",
    "import tifffile as tiff\n",
    "import os\n",
    "import ipywidgets as widgets"
   ]
  },
  {
   "cell_type": "code",
   "execution_count": 95,
   "metadata": {},
   "outputs": [],
   "source": [
    "image_path = 'C:/Users/ryans/Downloads/blood-vessel-segmentation/train/kidney_1_dense/images'\n",
    "mask_path = 'C:/Users/ryans/Downloads/blood-vessel-segmentation/train/kidney_1_dense/labels'\n",
    "# convert '.tif' to '.png'\n",
    "\n"
   ]
  },
  {
   "cell_type": "code",
   "execution_count": 98,
   "metadata": {},
   "outputs": [],
   "source": [
    "image_files = os.listdir(image_path)\n",
    "image_files = image_files[:800]\n",
    "image_files.sort()\n",
    "\n",
    "mask_files = os.listdir(mask_path)\n",
    "mask_files = mask_files[:800]\n",
    "mask_files.sort()\n",
    "\n",
    "# create list of only .png files from files\n",
    "files_tif = []\n",
    "for file in image_files:\n",
    "    if file.endswith('.tif'):\n",
    "        files_tif.append(file)\n",
    "images = np.stack([tiff.imread(image_path + '/' + file) for file in files_tif], axis=-1)\n",
    "\n",
    "masks_tif = []\n",
    "for file in mask_files:\n",
    "    if file.endswith('.tif'):\n",
    "        masks_tif.append(file)\n",
    "masks = np.stack([tiff.imread(mask_path + '/' + file) for file in masks_tif], axis=-1)"
   ]
  },
  {
   "cell_type": "code",
   "execution_count": 100,
   "metadata": {},
   "outputs": [
    {
     "data": {
      "text/plain": [
       "(1303, 912, 800)"
      ]
     },
     "execution_count": 100,
     "metadata": {},
     "output_type": "execute_result"
    }
   ],
   "source": [
    "images.shape"
   ]
  },
  {
   "cell_type": "code",
   "execution_count": 99,
   "metadata": {},
   "outputs": [
    {
     "data": {
      "application/vnd.jupyter.widget-view+json": {
       "model_id": "a42b64e165a54823b9140620bd9865ba",
       "version_major": 2,
       "version_minor": 0
      },
      "text/plain": [
       "interactive(children=(IntSlider(value=395, description='i', max=799, step=5), Output()), _dom_classes=('widget…"
      ]
     },
     "metadata": {},
     "output_type": "display_data"
    }
   ],
   "source": [
    "def scroll_view_cube(agg_tiff, masks_tif):\n",
    "    def view_image(i):\n",
    "        plt.imshow(agg_tiff[:,:,i], cmap='gray', alpha=1.0)\n",
    "        plt.imshow(masks_tif[:,:,i], cmap='Blues', alpha=0.3)\n",
    "        plt.show()\n",
    "    widgets.interact(view_image, i=(0, agg_tiff.shape[-1]-1, 5))\n",
    "\n",
    "scroll_view_cube(images, masks)"
   ]
  }
 ],
 "metadata": {
  "kernelspec": {
   "display_name": "Brain_Extraction",
   "language": "python",
   "name": "python3"
  },
  "language_info": {
   "codemirror_mode": {
    "name": "ipython",
    "version": 3
   },
   "file_extension": ".py",
   "mimetype": "text/x-python",
   "name": "python",
   "nbconvert_exporter": "python",
   "pygments_lexer": "ipython3",
   "version": "3.11.5"
  }
 },
 "nbformat": 4,
 "nbformat_minor": 2
}
