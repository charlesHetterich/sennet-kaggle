{
 "cells": [
  {
   "cell_type": "code",
   "execution_count": 1,
   "metadata": {},
   "outputs": [],
   "source": [
    "from time import time\n",
    "\n",
    "import sys\n",
    "sys.path.append('..')\n",
    "import util\n",
    "\n",
    "import torch\n",
    "import torch.nn as nn\n",
    "import torch.nn.functional as F\n",
    "from torch.utils.data import DataLoader\n",
    "\n",
    "log_board = util.diagnostics.LogBoard('log_dir', 6005)\n",
    "log_board.launch()\n",
    "\n",
    "device = torch.device('cuda' if torch.cuda.is_available() else 'cpu')"
   ]
  },
  {
   "cell_type": "code",
   "execution_count": 2,
   "metadata": {},
   "outputs": [
    {
     "name": "stderr",
     "output_type": "stream",
     "text": [
      "TensorFlow installation not found - running with reduced feature set.\n",
      "\n",
      "NOTE: Using experimental fast data loading logic. To disable, pass\n",
      "    \"--load_fast=false\" and report issues on GitHub. More details:\n",
      "    https://github.com/tensorflow/tensorboard/issues/4784\n",
      "\n",
      "E0128 01:18:07.434986 140359506990272 program.py:298] TensorBoard could not bind to port 6005, it was already in use\n",
      "ERROR: TensorBoard could not bind to port 6005, it was already in use\n"
     ]
    }
   ],
   "source": [
    "patch_size = 3,64,64\n",
    "train = util.data.SenNet(\n",
    "    patch_size,\n",
    "    guarantee_vessel=0.5,\n",
    "    data=[\n",
    "        [\n",
    "            torch.load('/root/data/cache/train/kidney_1_dense/images.pt'),\n",
    "            torch.load('/root/data/cache/train/kidney_2/images.pt'),\n",
    "            torch.load('/root/data/cache/train/kidney_3_sparse/images.pt'),\n",
    "        ],\n",
    "        [\n",
    "            torch.load('/root/data/cache/train/kidney_1_dense/images.pt'),\n",
    "            torch.load('/root/data/cache/train/kidney_2/images.pt'),\n",
    "            torch.load('/root/data/cache/train/kidney_3_sparse/images.pt'),\n",
    "        ]\n",
    "    ]\n",
    ")"
   ]
  },
  {
   "cell_type": "code",
   "execution_count": 3,
   "metadata": {},
   "outputs": [],
   "source": [
    "log_board.clear('train')\n",
    "log_board.clear('val')"
   ]
  },
  {
   "cell_type": "code",
   "execution_count": 4,
   "metadata": {},
   "outputs": [],
   "source": [
    "batch_size = 12\n",
    "train_data = DataLoader(train, batch_size=batch_size, shuffle=True)\n"
   ]
  },
  {
   "cell_type": "code",
   "execution_count": 5,
   "metadata": {},
   "outputs": [],
   "source": [
    "import matplotlib.pyplot as plt\n",
    "import numpy as np\n",
    "import io\n",
    "from PIL import Image\n",
    "\n",
    "def mask_plots(targets: list[torch.Tensor], preds: list[torch.Tensor]):\n",
    "    fig, axes = plt.subplots(2, len(targets), figsize=(20, 10))\n",
    "    if len(targets) == 1:\n",
    "        axes = axes[:, None]\n",
    "    \n",
    "    for i, (mask, pmask) in enumerate(zip(targets, preds)):\n",
    "        mask = mask[0].unsqueeze(0)\n",
    "        pmask = pmask[0].unsqueeze(0)\n",
    "        util.Display(scan=mask.cpu())._view_slice(0, 0, axes[0][i])\n",
    "        util.Display(scan=pmask.cpu())._view_slice(0, 0, axes[1][i])\n",
    "\n",
    "    buf = io.BytesIO()\n",
    "    fig.savefig(buf, format='png')\n",
    "    buf.seek(0)\n",
    "    plt.close()\n",
    "    return np.array(Image.open(buf))"
   ]
  },
  {
   "cell_type": "code",
   "execution_count": 6,
   "metadata": {},
   "outputs": [
    {
     "ename": "",
     "evalue": "",
     "output_type": "error",
     "traceback": [
      "\u001b[1;31mThe Kernel crashed while executing code in the the current cell or a previous cell. Please review the code in the cell(s) to identify a possible cause of the failure. Click <a href='https://aka.ms/vscodeJupyterKernelCrash'>here</a> for more info. View Jupyter <a href='command:jupyter.viewOutput'>log</a> for further details."
     ]
    }
   ],
   "source": [
    "from torch.utils.data import DataLoader\n",
    "import torchvision.transforms as T\n",
    "\n",
    "save_every = 500\n",
    "valid_every = 25\n",
    "epochs = 800\n",
    "batch_size = 128\n",
    "t_logger = log_board.get_logger('train')\n",
    "v_logger = log_board.get_logger('val')\n",
    "\n",
    "train_data = DataLoader(train, batch_size=batch_size, shuffle=True)\n",
    "\n",
    "model = util.UNet3P(\n",
    "    in_f=3,\n",
    "    layers=[32, 64, 64, 128, 128, 128, 128],\n",
    "    block_depth=6,\n",
    "    connect_depth=8,\n",
    "    conv=util.nn.Conv2DNormed,\n",
    "    pool_fn=nn.MaxPool2d,\n",
    "    resize_kernel=(2,2),\n",
    "    upsample_mode='bilinear',\n",
    "    norm_fn=nn.BatchNorm2d,\n",
    "    dropout=(nn.Dropout2d, 0.1)\n",
    ").to(device)\n",
    "# model.load_state_dict(torch.load('./bin/_tmp_models/unet2.5d_IN_PROGRESS.pt', map_location=device))\n",
    "model.train()\n",
    "\n",
    "\n",
    "optimizer = torch.optim.Adam(model.parameters(), lr=0.001)\n",
    "dice_fn = util.DiceScore().to(device)\n",
    "focal_loss = util.BinaryFocalLoss(\n",
    "    alpha=0.8,\n",
    "    gamma=1.5,\n",
    ")\n",
    "loss_fn = nn.MSELoss()\n",
    "rand_erase = T.RandomErasing(p=1)\n",
    "\n",
    "t = time()\n",
    "step = 0\n",
    "for epoch in range(epochs):\n",
    "    for i, (x, y, _) in enumerate(train_data):\n",
    "        step += 1\n",
    "\n",
    "        # Prepare data\n",
    "        aug = util.PatchAugment(no_rotate=True).to(device)\n",
    "        x, y = aug(x.float().to(device)), aug(y.float().to(device))\n",
    "        x, y = x.view(x.shape[0],x.shape[1]*x.shape[2],x.shape[3],x.shape[4]), (y[:,:,y.shape[2]//2,:,:] / 255) - 0.5\n",
    "        x = rand_erase(x)\n",
    "        \n",
    "        # Compute output\n",
    "        preds = model(x)\n",
    "        masks = [m for m in model.deep_masks(y)]\n",
    "\n",
    "        # calc loss\n",
    "        loss = torch.stack([\n",
    "            loss_fn(preds[i], masks[i])\n",
    "            for i in range(len(preds))\n",
    "        ])\n",
    "\n",
    "        # Step grad\n",
    "        loss.sum().backward()\n",
    "        optimizer.step()\n",
    "        optimizer.zero_grad()\n",
    "\n",
    "        # Logging & validation\n",
    "        with torch.no_grad():\n",
    "            # log loss\n",
    "            loss_dict = { f'_{i}' : loss[i] for i, k in enumerate(loss) }\n",
    "            t_logger.add_scalars('loss', loss_dict, step)\n",
    "            \n",
    "            # stats\n",
    "            for i, (pred, mask) in enumerate(zip(preds, masks)):\n",
    "                t_logger.add_scalars(f'stats_{i + 1}',{\n",
    "                    'pred_std': pred.std(),\n",
    "                    'pred_mean': pred.mean(),\n",
    "                    'mask_std': mask.std(),\n",
    "                    'mask_mean': mask.mean(),\n",
    "                }, step)\n",
    "\n",
    "            # Validation logging\n",
    "            if (step + 1) % valid_every == 0:\n",
    "                v_logger.add_image('masks', mask_plots(masks, preds), step, dataformats='HWC')\n",
    "                t_logger.add_scalar('time', time() - t, step)\n",
    "                t = time()\n",
    "                model.train()\n",
    "                \n",
    "            # Save model\n",
    "            if (step + 1) % save_every == 0:\n",
    "                torch.save(model.state_dict(), f'./bin/_tmp_models/unet2.5d_IN_PROGRESS.pt')"
   ]
  },
  {
   "cell_type": "code",
   "execution_count": null,
   "metadata": {},
   "outputs": [],
   "source": []
  }
 ],
 "metadata": {
  "kernelspec": {
   "display_name": "base",
   "language": "python",
   "name": "python3"
  },
  "language_info": {
   "codemirror_mode": {
    "name": "ipython",
    "version": 3
   },
   "file_extension": ".py",
   "mimetype": "text/x-python",
   "name": "python",
   "nbconvert_exporter": "python",
   "pygments_lexer": "ipython3",
   "version": "3.10.13"
  }
 },
 "nbformat": 4,
 "nbformat_minor": 2
}
