{
 "cells": [
  {
   "cell_type": "code",
   "execution_count": 1,
   "metadata": {},
   "outputs": [],
   "source": [
    "import torch\n",
    "from torch.utils.data import DataLoader\n",
    "import numpy as np\n",
    "\n",
    "import importlib\n",
    "import sys\n",
    "sys.path.append('..')\n",
    "import util\n",
    "importlib.reload(util)\n",
    "importlib.reload(util.general)\n",
    "importlib.reload(util.data)\n",
    "importlib.reload(util.nn)\n",
    "importlib.reload(util.nn.unet3d)\n",
    "import util\n",
    "\n",
    "log_board = util.diagnostics.LogBoard('log_dir', 6005)\n",
    "log_board.launch()\n",
    "\n",
    "device = torch.device('cuda' if torch.cuda.is_available() else 'cpu')"
   ]
  },
  {
   "cell_type": "code",
   "execution_count": 2,
   "metadata": {},
   "outputs": [
    {
     "name": "stderr",
     "output_type": "stream",
     "text": [
      "TensorFlow installation not found - running with reduced feature set.\n",
      "\n",
      "NOTE: Using experimental fast data loading logic. To disable, pass\n",
      "    \"--load_fast=false\" and report issues on GitHub. More details:\n",
      "    https://github.com/tensorflow/tensorboard/issues/4784\n",
      "\n",
      "Serving TensorBoard on localhost; to expose to the network, use a proxy or pass --bind_all\n",
      "TensorBoard 2.15.1 at http://localhost:6005/ (Press CTRL+C to quit)\n"
     ]
    }
   ],
   "source": [
    "chunk_size = 80\n",
    "dataset = util.data.SenNet(chunk_size)\n",
    "train_data = DataLoader(dataset, batch_size=1, shuffle=True)\n",
    "frac_pos = dataset.labels[0].float().mean()"
   ]
  },
  {
   "cell_type": "code",
   "execution_count": null,
   "metadata": {},
   "outputs": [],
   "source": [
    "# SAVE CURRENT LOG DIR BEFORE RUNNING THIS\n",
    "# log_board.clear('train')"
   ]
  },
  {
   "cell_type": "code",
   "execution_count": 4,
   "metadata": {},
   "outputs": [],
   "source": [
    "epochs = 100\n",
    "batch_size = 4\n",
    "logger = log_board.get_logger('train')\n",
    "\n",
    "model = util.UNet3D(\n",
    "    Conv3d=util.nn.Conv3DNormed\n",
    ").to(device)\n",
    "optimizer = torch.optim.Adam(model.parameters(), lr=0.001)\n",
    "scaler = torch.cuda.amp.GradScaler()\n",
    "# loss_fn = util.BinaryFocalLoss(alpha=0.9, gamma=2.0).to(device)\n",
    "loss_fn = util.DiceLoss().to(device)\n",
    "\n",
    "agg_dice = []\n",
    "agg_loss = []\n",
    "for epoch in range(epochs):\n",
    "    for i, (x, y) in enumerate(train_data):\n",
    "        step = epoch * len(train_data) + i\n",
    "        x, y = x.float().to(device), y.float().to(device)\n",
    "        x = (x - x.mean()) / x.std()\n",
    "        # with torch.cuda.amp.autocast():\n",
    "        pred_y = model(x)\n",
    "        loss = loss_fn(pred_y[-1], y)\n",
    "        loss /= batch_size\n",
    "        agg_loss.append(loss.item())\n",
    "        agg_dice.append(util.dice_coefficient(\n",
    "            (pred_y[-1] > 0.5).float(), y\n",
    "        ).item())\n",
    "        scaler.scale(loss).backward()\n",
    "        logger.add_scalars('stats',{\n",
    "            'out_std': pred_y[-1].std(),\n",
    "            'out_mean': pred_y[-1].mean(),\n",
    "            'vessel_density': y.mean(),\n",
    "            'pred_density': (pred_y[-1] > 0.5).float().mean(),\n",
    "            # 'bce_min': bce.min(),\n",
    "            # 'bce_max': bce.max(),\n",
    "        }, step)\n",
    "\n",
    "        if step != 0 and step % batch_size == 0: # backward after we've collected a full batch\n",
    "            scaler.step(optimizer)\n",
    "            scaler.update()\n",
    "            optimizer.zero_grad()\n",
    "\n",
    "            logger.add_scalar('loss', np.sum(agg_loss), step)\n",
    "            logger.add_scalar('dice', np.mean(agg_dice), step)\n",
    "\n",
    "            agg_dice = []\n",
    "            agg_loss = []"
   ]
  },
  {
   "cell_type": "code",
   "execution_count": 10,
   "metadata": {},
   "outputs": [
    {
     "ename": "NameError",
     "evalue": "name 'model' is not defined",
     "output_type": "error",
     "traceback": [
      "\u001b[0;31m---------------------------------------------------------------------------\u001b[0m",
      "\u001b[0;31mNameError\u001b[0m                                 Traceback (most recent call last)",
      "Cell \u001b[0;32mIn[10], line 1\u001b[0m\n\u001b[0;32m----> 1\u001b[0m \u001b[38;5;28;01mdel\u001b[39;00m model, x, y\n\u001b[1;32m      2\u001b[0m torch\u001b[38;5;241m.\u001b[39mcuda\u001b[38;5;241m.\u001b[39mempty_cache()\n",
      "\u001b[0;31mNameError\u001b[0m: name 'model' is not defined"
     ]
    }
   ],
   "source": [
    "del model, x, y\n",
    "torch.cuda.empty_cache()"
   ]
  },
  {
   "cell_type": "code",
   "execution_count": 6,
   "metadata": {},
   "outputs": [
    {
     "data": {
      "text/plain": [
       "torch.Size([1, 2375, 1399, 1008])"
      ]
     },
     "execution_count": 6,
     "metadata": {},
     "output_type": "execute_result"
    }
   ],
   "source": [
    "dataset.scans[0].shape"
   ]
  },
  {
   "cell_type": "code",
   "execution_count": 5,
   "metadata": {},
   "outputs": [
    {
     "name": "stdout",
     "output_type": "stream",
     "text": [
      "436 78 615\n",
      "569 679 322\n",
      "28.328125\n"
     ]
    }
   ],
   "source": [
    "x, y = next(iter(train_data))\n",
    "x = x.half().to(device)\n",
    "y = y.half().to(device)\n",
    "with torch.cuda.amp.autocast():\n",
    "    # with torch.no_grad():\n",
    "    y_pred = model(x)\n",
    "    loss = y_pred[-1].mean()\n",
    "    print(loss.item())\n",
    "    loss.backward()"
   ]
  },
  {
   "cell_type": "code",
   "execution_count": 6,
   "metadata": {},
   "outputs": [
    {
     "data": {
      "text/plain": [
       "torch.float16"
      ]
     },
     "execution_count": 6,
     "metadata": {},
     "output_type": "execute_result"
    }
   ],
   "source": [
    "y_pred[-1].dtype"
   ]
  },
  {
   "cell_type": "code",
   "execution_count": 10,
   "metadata": {},
   "outputs": [
    {
     "name": "stdout",
     "output_type": "stream",
     "text": [
      "tensor(0., dtype=torch.float16)\n"
     ]
    },
    {
     "data": {
      "application/vnd.jupyter.widget-view+json": {
       "model_id": "a4645636b5834d4bb7ae8f0f435bf34f",
       "version_major": 2,
       "version_minor": 0
      },
      "text/plain": [
       "interactive(children=(IntSlider(value=0, description='idx_td', max=95), Output()), _dom_classes=('widget-inter…"
      ]
     },
     "metadata": {},
     "output_type": "display_data"
    },
    {
     "data": {
      "application/vnd.jupyter.widget-view+json": {
       "model_id": "720fcd86a53e41a685027db6ca1e5f0b",
       "version_major": 2,
       "version_minor": 0
      },
      "text/plain": [
       "interactive(children=(IntSlider(value=0, description='idx_side', max=95), Output()), _dom_classes=('widget-int…"
      ]
     },
     "metadata": {},
     "output_type": "display_data"
    }
   ],
   "source": [
    "# x, y = next(iter(train_data))\n",
    "x, y = x.half(), y.half()\n",
    "print(y[0].max())\n",
    "util.Display(\n",
    "    x[0].cpu().squeeze(),\n",
    "    # y[0].cpu().squeeze()\n",
    ")(True)"
   ]
  },
  {
   "cell_type": "code",
   "execution_count": 16,
   "metadata": {},
   "outputs": [
    {
     "data": {
      "text/plain": [
       "1048576"
      ]
     },
     "execution_count": 16,
     "metadata": {},
     "output_type": "execute_result"
    }
   ],
   "source": [
    "y.count_nonzero()\n",
    "y.numel()"
   ]
  },
  {
   "cell_type": "code",
   "execution_count": 8,
   "metadata": {},
   "outputs": [],
   "source": [
    "model = util.UNet3D().to(device)"
   ]
  }
 ],
 "metadata": {
  "kernelspec": {
   "display_name": "base",
   "language": "python",
   "name": "python3"
  },
  "language_info": {
   "codemirror_mode": {
    "name": "ipython",
    "version": 3
   },
   "file_extension": ".py",
   "mimetype": "text/x-python",
   "name": "python",
   "nbconvert_exporter": "python",
   "pygments_lexer": "ipython3",
   "version": "3.10.13"
  }
 },
 "nbformat": 4,
 "nbformat_minor": 2
}
